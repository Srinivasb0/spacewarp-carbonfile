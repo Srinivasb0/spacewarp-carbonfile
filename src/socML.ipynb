{
  "nbformat": 4,
  "nbformat_minor": 0,
  "metadata": {
    "colab": {
      "provenance": []
    },
    "kernelspec": {
      "name": "python3",
      "display_name": "Python 3"
    },
    "language_info": {
      "name": "python"
    }
  },
  "cells": [
    {
      "cell_type": "code",
      "execution_count": 1,
      "metadata": {
        "id": "dpz_s_VW9nwp"
      },
      "outputs": [],
      "source": [
        "import pandas as pd\n",
        "import matplotlib.pyplot as plt\n",
        "import numpy as np\n",
        "import seaborn as sns\n",
        "import pickle"
      ]
    },
    {
      "cell_type": "markdown",
      "source": [
        "### SOC Database (https://zenodo.org/record/6611475)\n",
        "\n",
        "The dataset compiles 840 georeferenced SOC measurements over a 26-ha agricultural field located in southern Ontario, Canada with a sampling density of ~32 points per ha. As SOC is influenced by site topography (i.e., slope and landscape position), each point of the database was associated with a wide range of topographic derivatives. The columns include sample ID, SOC measurement, latitude, Longitude, NDVI values, as well as a set of 54 topographic derivatives (i.e., primary and secondary - see metadat.pdf attached file) with a spatial resolution of a 5 m.  "
      ],
      "metadata": {
        "id": "sD9i1AstgkzY"
      }
    },
    {
      "cell_type": "code",
      "source": [
        "# We have used open SOC base for training the ML model and predict the SOC based on NDVI for particular field\n",
        "\n",
        "socDB = pd.read_csv('SOC_Database.csv', sep=',')\n",
        "display(socDB.head())\n",
        "# checking the data\n",
        "display(socDB.columns)\n",
        "display(socDB.shape)\n",
        "display(socDB.isnull().sum().any())\n",
        "display(socDB.duplicated().any())\n",
        "display(socDB.dtypes == 'str')"
      ],
      "metadata": {
        "id": "9yM_6hLW-A7f",
        "colab": {
          "base_uri": "https://localhost:8080/",
          "height": 763
        },
        "outputId": "916b7fd2-c25b-46bd-a570-2a98dac5dbfd"
      },
      "execution_count": 2,
      "outputs": [
        {
          "output_type": "display_data",
          "data": {
            "text/plain": [
              "   SampleID  SOC (%)         Catch       Conv        Elev   DevME A   DevME B  \\\n",
              "0         1     4.88    105.560303  -1.695651  397.309113 -0.242336 -0.019693   \n",
              "1         2     4.76  11756.406250 -12.779182  397.207977 -0.778743 -0.452079   \n",
              "2         3     5.10   2824.329590  -0.521328  397.390015 -0.171732 -0.254896   \n",
              "3         4     5.70   5295.354492   3.123698  397.513275  0.009115  0.044004   \n",
              "4         5     5.11   6871.969727   2.661578  397.637207  0.072724  0.113439   \n",
              "\n",
              "    DevME C   DevME D  DiffME A  ...       TPI       TRI        TWI  \\\n",
              "0 -0.416003 -1.223508 -0.042645  ... -0.025165  0.059154   8.648174   \n",
              "1 -0.494462 -1.258175 -0.106777  ... -0.180933  0.021448  14.400584   \n",
              "2 -0.437166 -1.231417 -0.031157  ... -0.111542  0.037374  12.385666   \n",
              "3 -0.394856 -1.225852  0.001653  ...  0.000611  0.031468  13.188428   \n",
              "4 -0.366388 -1.215629  0.014545  ...  0.057567  0.041576  13.167877   \n",
              "\n",
              "      VDepth        VIS  NDVI_max  NDVI_median   NDVI_sd     X (DD)     Y (DD)  \n",
              "0   9.705094  98.230995  0.876076     0.694713  0.164614 -80.269163  43.707232  \n",
              "1  10.325721  98.319786  0.915627     0.613926  0.210947 -80.269013  43.707365  \n",
              "2   9.450062  98.371185  0.927210     0.646960  0.234737 -80.268867  43.707490  \n",
              "3   8.735661  98.379845  0.915750     0.711604  0.183207 -80.268703  43.707638  \n",
              "4   8.526403  98.394020  0.934996     0.651558  0.271645 -80.268508  43.707771  \n",
              "\n",
              "[5 rows x 61 columns]"
            ],
            "text/html": [
              "\n",
              "  <div id=\"df-3977f115-88c7-4fe7-8241-a7604ce07a66\">\n",
              "    <div class=\"colab-df-container\">\n",
              "      <div>\n",
              "<style scoped>\n",
              "    .dataframe tbody tr th:only-of-type {\n",
              "        vertical-align: middle;\n",
              "    }\n",
              "\n",
              "    .dataframe tbody tr th {\n",
              "        vertical-align: top;\n",
              "    }\n",
              "\n",
              "    .dataframe thead th {\n",
              "        text-align: right;\n",
              "    }\n",
              "</style>\n",
              "<table border=\"1\" class=\"dataframe\">\n",
              "  <thead>\n",
              "    <tr style=\"text-align: right;\">\n",
              "      <th></th>\n",
              "      <th>SampleID</th>\n",
              "      <th>SOC (%)</th>\n",
              "      <th>Catch</th>\n",
              "      <th>Conv</th>\n",
              "      <th>Elev</th>\n",
              "      <th>DevME A</th>\n",
              "      <th>DevME B</th>\n",
              "      <th>DevME C</th>\n",
              "      <th>DevME D</th>\n",
              "      <th>DiffME A</th>\n",
              "      <th>...</th>\n",
              "      <th>TPI</th>\n",
              "      <th>TRI</th>\n",
              "      <th>TWI</th>\n",
              "      <th>VDepth</th>\n",
              "      <th>VIS</th>\n",
              "      <th>NDVI_max</th>\n",
              "      <th>NDVI_median</th>\n",
              "      <th>NDVI_sd</th>\n",
              "      <th>X (DD)</th>\n",
              "      <th>Y (DD)</th>\n",
              "    </tr>\n",
              "  </thead>\n",
              "  <tbody>\n",
              "    <tr>\n",
              "      <th>0</th>\n",
              "      <td>1</td>\n",
              "      <td>4.88</td>\n",
              "      <td>105.560303</td>\n",
              "      <td>-1.695651</td>\n",
              "      <td>397.309113</td>\n",
              "      <td>-0.242336</td>\n",
              "      <td>-0.019693</td>\n",
              "      <td>-0.416003</td>\n",
              "      <td>-1.223508</td>\n",
              "      <td>-0.042645</td>\n",
              "      <td>...</td>\n",
              "      <td>-0.025165</td>\n",
              "      <td>0.059154</td>\n",
              "      <td>8.648174</td>\n",
              "      <td>9.705094</td>\n",
              "      <td>98.230995</td>\n",
              "      <td>0.876076</td>\n",
              "      <td>0.694713</td>\n",
              "      <td>0.164614</td>\n",
              "      <td>-80.269163</td>\n",
              "      <td>43.707232</td>\n",
              "    </tr>\n",
              "    <tr>\n",
              "      <th>1</th>\n",
              "      <td>2</td>\n",
              "      <td>4.76</td>\n",
              "      <td>11756.406250</td>\n",
              "      <td>-12.779182</td>\n",
              "      <td>397.207977</td>\n",
              "      <td>-0.778743</td>\n",
              "      <td>-0.452079</td>\n",
              "      <td>-0.494462</td>\n",
              "      <td>-1.258175</td>\n",
              "      <td>-0.106777</td>\n",
              "      <td>...</td>\n",
              "      <td>-0.180933</td>\n",
              "      <td>0.021448</td>\n",
              "      <td>14.400584</td>\n",
              "      <td>10.325721</td>\n",
              "      <td>98.319786</td>\n",
              "      <td>0.915627</td>\n",
              "      <td>0.613926</td>\n",
              "      <td>0.210947</td>\n",
              "      <td>-80.269013</td>\n",
              "      <td>43.707365</td>\n",
              "    </tr>\n",
              "    <tr>\n",
              "      <th>2</th>\n",
              "      <td>3</td>\n",
              "      <td>5.10</td>\n",
              "      <td>2824.329590</td>\n",
              "      <td>-0.521328</td>\n",
              "      <td>397.390015</td>\n",
              "      <td>-0.171732</td>\n",
              "      <td>-0.254896</td>\n",
              "      <td>-0.437166</td>\n",
              "      <td>-1.231417</td>\n",
              "      <td>-0.031157</td>\n",
              "      <td>...</td>\n",
              "      <td>-0.111542</td>\n",
              "      <td>0.037374</td>\n",
              "      <td>12.385666</td>\n",
              "      <td>9.450062</td>\n",
              "      <td>98.371185</td>\n",
              "      <td>0.927210</td>\n",
              "      <td>0.646960</td>\n",
              "      <td>0.234737</td>\n",
              "      <td>-80.268867</td>\n",
              "      <td>43.707490</td>\n",
              "    </tr>\n",
              "    <tr>\n",
              "      <th>3</th>\n",
              "      <td>4</td>\n",
              "      <td>5.70</td>\n",
              "      <td>5295.354492</td>\n",
              "      <td>3.123698</td>\n",
              "      <td>397.513275</td>\n",
              "      <td>0.009115</td>\n",
              "      <td>0.044004</td>\n",
              "      <td>-0.394856</td>\n",
              "      <td>-1.225852</td>\n",
              "      <td>0.001653</td>\n",
              "      <td>...</td>\n",
              "      <td>0.000611</td>\n",
              "      <td>0.031468</td>\n",
              "      <td>13.188428</td>\n",
              "      <td>8.735661</td>\n",
              "      <td>98.379845</td>\n",
              "      <td>0.915750</td>\n",
              "      <td>0.711604</td>\n",
              "      <td>0.183207</td>\n",
              "      <td>-80.268703</td>\n",
              "      <td>43.707638</td>\n",
              "    </tr>\n",
              "    <tr>\n",
              "      <th>4</th>\n",
              "      <td>5</td>\n",
              "      <td>5.11</td>\n",
              "      <td>6871.969727</td>\n",
              "      <td>2.661578</td>\n",
              "      <td>397.637207</td>\n",
              "      <td>0.072724</td>\n",
              "      <td>0.113439</td>\n",
              "      <td>-0.366388</td>\n",
              "      <td>-1.215629</td>\n",
              "      <td>0.014545</td>\n",
              "      <td>...</td>\n",
              "      <td>0.057567</td>\n",
              "      <td>0.041576</td>\n",
              "      <td>13.167877</td>\n",
              "      <td>8.526403</td>\n",
              "      <td>98.394020</td>\n",
              "      <td>0.934996</td>\n",
              "      <td>0.651558</td>\n",
              "      <td>0.271645</td>\n",
              "      <td>-80.268508</td>\n",
              "      <td>43.707771</td>\n",
              "    </tr>\n",
              "  </tbody>\n",
              "</table>\n",
              "<p>5 rows × 61 columns</p>\n",
              "</div>\n",
              "      <button class=\"colab-df-convert\" onclick=\"convertToInteractive('df-3977f115-88c7-4fe7-8241-a7604ce07a66')\"\n",
              "              title=\"Convert this dataframe to an interactive table.\"\n",
              "              style=\"display:none;\">\n",
              "        \n",
              "  <svg xmlns=\"http://www.w3.org/2000/svg\" height=\"24px\"viewBox=\"0 0 24 24\"\n",
              "       width=\"24px\">\n",
              "    <path d=\"M0 0h24v24H0V0z\" fill=\"none\"/>\n",
              "    <path d=\"M18.56 5.44l.94 2.06.94-2.06 2.06-.94-2.06-.94-.94-2.06-.94 2.06-2.06.94zm-11 1L8.5 8.5l.94-2.06 2.06-.94-2.06-.94L8.5 2.5l-.94 2.06-2.06.94zm10 10l.94 2.06.94-2.06 2.06-.94-2.06-.94-.94-2.06-.94 2.06-2.06.94z\"/><path d=\"M17.41 7.96l-1.37-1.37c-.4-.4-.92-.59-1.43-.59-.52 0-1.04.2-1.43.59L10.3 9.45l-7.72 7.72c-.78.78-.78 2.05 0 2.83L4 21.41c.39.39.9.59 1.41.59.51 0 1.02-.2 1.41-.59l7.78-7.78 2.81-2.81c.8-.78.8-2.07 0-2.86zM5.41 20L4 18.59l7.72-7.72 1.47 1.35L5.41 20z\"/>\n",
              "  </svg>\n",
              "      </button>\n",
              "      \n",
              "  <style>\n",
              "    .colab-df-container {\n",
              "      display:flex;\n",
              "      flex-wrap:wrap;\n",
              "      gap: 12px;\n",
              "    }\n",
              "\n",
              "    .colab-df-convert {\n",
              "      background-color: #E8F0FE;\n",
              "      border: none;\n",
              "      border-radius: 50%;\n",
              "      cursor: pointer;\n",
              "      display: none;\n",
              "      fill: #1967D2;\n",
              "      height: 32px;\n",
              "      padding: 0 0 0 0;\n",
              "      width: 32px;\n",
              "    }\n",
              "\n",
              "    .colab-df-convert:hover {\n",
              "      background-color: #E2EBFA;\n",
              "      box-shadow: 0px 1px 2px rgba(60, 64, 67, 0.3), 0px 1px 3px 1px rgba(60, 64, 67, 0.15);\n",
              "      fill: #174EA6;\n",
              "    }\n",
              "\n",
              "    [theme=dark] .colab-df-convert {\n",
              "      background-color: #3B4455;\n",
              "      fill: #D2E3FC;\n",
              "    }\n",
              "\n",
              "    [theme=dark] .colab-df-convert:hover {\n",
              "      background-color: #434B5C;\n",
              "      box-shadow: 0px 1px 3px 1px rgba(0, 0, 0, 0.15);\n",
              "      filter: drop-shadow(0px 1px 2px rgba(0, 0, 0, 0.3));\n",
              "      fill: #FFFFFF;\n",
              "    }\n",
              "  </style>\n",
              "\n",
              "      <script>\n",
              "        const buttonEl =\n",
              "          document.querySelector('#df-3977f115-88c7-4fe7-8241-a7604ce07a66 button.colab-df-convert');\n",
              "        buttonEl.style.display =\n",
              "          google.colab.kernel.accessAllowed ? 'block' : 'none';\n",
              "\n",
              "        async function convertToInteractive(key) {\n",
              "          const element = document.querySelector('#df-3977f115-88c7-4fe7-8241-a7604ce07a66');\n",
              "          const dataTable =\n",
              "            await google.colab.kernel.invokeFunction('convertToInteractive',\n",
              "                                                     [key], {});\n",
              "          if (!dataTable) return;\n",
              "\n",
              "          const docLinkHtml = 'Like what you see? Visit the ' +\n",
              "            '<a target=\"_blank\" href=https://colab.research.google.com/notebooks/data_table.ipynb>data table notebook</a>'\n",
              "            + ' to learn more about interactive tables.';\n",
              "          element.innerHTML = '';\n",
              "          dataTable['output_type'] = 'display_data';\n",
              "          await google.colab.output.renderOutput(dataTable, element);\n",
              "          const docLink = document.createElement('div');\n",
              "          docLink.innerHTML = docLinkHtml;\n",
              "          element.appendChild(docLink);\n",
              "        }\n",
              "      </script>\n",
              "    </div>\n",
              "  </div>\n",
              "  "
            ]
          },
          "metadata": {}
        },
        {
          "output_type": "display_data",
          "data": {
            "text/plain": [
              "Index(['SampleID', 'SOC (%)', 'Catch', 'Conv', 'Elev', 'DevME A', 'DevME B',\n",
              "       'DevME C', 'DevME D', 'DiffME A', 'DiffME B', 'DiffME C', 'DiffME D',\n",
              "       'EDF MID', 'EDF NE', 'EDF NW', 'EDF SE', 'EDF SW', 'EDF E', 'EDF N',\n",
              "       'Gcurv', 'Hillshade', 'LS', 'MDM A', 'MDM B', 'MDM C', 'MDMS A',\n",
              "       'MDMS B', 'MDMS C', 'MED A', 'MED B', 'MED C', 'MEDS A', 'MEDS B',\n",
              "       'MEDS C', 'MRRTF', 'MRVBF', 'MSP', 'MSTPI', 'NormH', 'Plan', 'Pro',\n",
              "       'RSP', 'SLength', 'SlopeH', 'Slope', 'SPI', 'StanH', 'SVF', 'SWI',\n",
              "       'TCurv', 'TPI', 'TRI', 'TWI', 'VDepth', 'VIS', 'NDVI_max',\n",
              "       'NDVI_median', 'NDVI_sd', 'X (DD)', 'Y (DD)'],\n",
              "      dtype='object')"
            ]
          },
          "metadata": {}
        },
        {
          "output_type": "display_data",
          "data": {
            "text/plain": [
              "(840, 61)"
            ]
          },
          "metadata": {}
        },
        {
          "output_type": "display_data",
          "data": {
            "text/plain": [
              "False"
            ]
          },
          "metadata": {}
        },
        {
          "output_type": "display_data",
          "data": {
            "text/plain": [
              "False"
            ]
          },
          "metadata": {}
        },
        {
          "output_type": "display_data",
          "data": {
            "text/plain": [
              "SampleID       False\n",
              "SOC (%)        False\n",
              "Catch          False\n",
              "Conv           False\n",
              "Elev           False\n",
              "               ...  \n",
              "NDVI_max       False\n",
              "NDVI_median    False\n",
              "NDVI_sd        False\n",
              "X (DD)         False\n",
              "Y (DD)         False\n",
              "Length: 61, dtype: bool"
            ]
          },
          "metadata": {}
        }
      ]
    },
    {
      "cell_type": "code",
      "source": [
        "# prepare data for ML modeling\n",
        "x = socDB.drop(['SampleID','SOC (%)'], 1)\n",
        "y = socDB['SOC (%)']\n",
        "display(x.shape, y.shape)\n",
        "\n",
        "# splitting data for training and testing\n",
        "X_train = x[:700]\n",
        "y_train = y[:700]\n",
        "X_test = x[700:]\n",
        "y_test = y[700:]\n",
        "\n",
        "display(X_train.shape, y_train.shape, X_test.shape, y_test.shape)"
      ],
      "metadata": {
        "colab": {
          "base_uri": "https://localhost:8080/",
          "height": 180
        },
        "id": "9py0Y8rSJ0zo",
        "outputId": "3bdc2bd8-aec5-4597-d240-8f61bb7c2bae"
      },
      "execution_count": 3,
      "outputs": [
        {
          "output_type": "stream",
          "name": "stderr",
          "text": [
            "<ipython-input-3-f5efe0905ebc>:2: FutureWarning: In a future version of pandas all arguments of DataFrame.drop except for the argument 'labels' will be keyword-only\n",
            "  x = socDB.drop(['SampleID','SOC (%)'], 1)\n"
          ]
        },
        {
          "output_type": "display_data",
          "data": {
            "text/plain": [
              "(840, 59)"
            ]
          },
          "metadata": {}
        },
        {
          "output_type": "display_data",
          "data": {
            "text/plain": [
              "(840,)"
            ]
          },
          "metadata": {}
        },
        {
          "output_type": "display_data",
          "data": {
            "text/plain": [
              "(700, 59)"
            ]
          },
          "metadata": {}
        },
        {
          "output_type": "display_data",
          "data": {
            "text/plain": [
              "(700,)"
            ]
          },
          "metadata": {}
        },
        {
          "output_type": "display_data",
          "data": {
            "text/plain": [
              "(140, 59)"
            ]
          },
          "metadata": {}
        },
        {
          "output_type": "display_data",
          "data": {
            "text/plain": [
              "(140,)"
            ]
          },
          "metadata": {}
        }
      ]
    },
    {
      "cell_type": "code",
      "source": [
        "# Training model using simple linear regression\n",
        "from sklearn.linear_model import LinearRegression\n",
        "clf = LinearRegression()\n",
        "clf.fit(X_train, y_train)\n",
        "\n",
        "print(clf.coef_)\n",
        "print(clf.intercept_)\n",
        "\n",
        "train_accuracy = clf.score(X_train, y_train)\n",
        "test_accuracy = clf.score(X_test, y_test)\n",
        "\n",
        "print(train_accuracy)\n",
        "print(test_accuracy)\n",
        "\n",
        "train_predict = clf.predict(X_train)\n",
        "\n",
        "train_predictions = pd.DataFrame({'true_SOC%': y_train, 'predicted_SOC%': train_predict})\n",
        "train_predictions.head()\n",
        "\n",
        "\n",
        "test_predict = clf.predict(X_test)\n",
        "test_predictions = pd.DataFrame({'true_SOC%': y_test, 'predicted_SOC%': test_predict})\n",
        "\n",
        "print(\"-------Training Predictions--------\")\n",
        "print(train_predictions.head())\n",
        "\n",
        "\n",
        "print(\"-------Testing Predictions--------\")\n",
        "print(test_predictions.head())"
      ],
      "metadata": {
        "colab": {
          "base_uri": "https://localhost:8080/"
        },
        "id": "gSkCGpA_-f9Q",
        "outputId": "45f80761-7b2e-4a75-f671-6c678cc7f4a7"
      },
      "execution_count": 4,
      "outputs": [
        {
          "output_type": "stream",
          "name": "stdout",
          "text": [
            "[-1.91928514e-05  1.92881216e-03  2.10953744e+00 -2.15581429e-03\n",
            " -8.13729161e-01 -3.87019173e-01 -1.23077024e+01  9.51798209e+00\n",
            " -4.59731112e-02  8.24202478e-01 -3.93268382e-02 -8.00061102e-03\n",
            " -1.51064248e-01  8.86280927e-02 -1.41731535e-02  1.70017541e-02\n",
            "  1.70592630e-01  8.73285258e-02 -1.27318797e+02  6.79042555e-01\n",
            " -3.03851035e+00  4.22216096e-01  1.38149001e-01 -1.74342238e-01\n",
            "  6.49690852e-03 -1.67495417e-03  2.77177074e-03  2.72772009e-02\n",
            " -3.31504930e-01  5.50978352e-01 -6.14792253e-04 -2.29028769e-03\n",
            " -1.60885330e-03 -6.32140712e-02 -8.53141246e-02  1.27089325e-01\n",
            " -1.12976082e+00  2.89793569e+00  5.12118051e-01 -1.19683170e+02\n",
            "  1.58396630e+00 -1.49988622e-05 -2.37187678e-01  4.58230953e+01\n",
            "  1.42090692e-03 -1.42885234e-01 -5.24938686e+02 -1.05900614e-01\n",
            "  2.22301529e+04 -5.47956940e-01 -9.55873627e+00  3.32599598e-02\n",
            "  2.51624452e-01  3.57258851e-01 -7.16934805e+00 -1.27138025e+00\n",
            " -1.91831646e+00  5.27960323e+02  1.81549675e+03]\n",
            "-37453.443620437254\n",
            "0.6818351594493779\n",
            "-1.6102692737300988\n",
            "-------Training Predictions--------\n",
            "   true_SOC%  predicted_SOC%\n",
            "0       4.88        4.889613\n",
            "1       4.76        4.776925\n",
            "2       5.10        4.496416\n",
            "3       5.70        4.240198\n",
            "4       5.11        3.807200\n",
            "-------Testing Predictions--------\n",
            "     true_SOC%  predicted_SOC%\n",
            "700       2.47        2.875131\n",
            "701       2.77        2.929904\n",
            "702       3.30        3.116718\n",
            "703       2.91        3.277680\n",
            "704       3.45        3.315396\n"
          ]
        }
      ]
    },
    {
      "cell_type": "code",
      "source": [
        "import requests\n",
        "import warnings\n",
        "warnings.filterwarnings('ignore')\n",
        "response = requests.get(\"http://api.agromonitoring.com/stats/1.0/12363b4c180/635cf25a176fe6831443f2df?appid=b58f66ea030f42fad0c0d3c651b4fbe5\")\n",
        "ndvi = response.json()\n",
        "\n",
        "# Satelite data\n",
        "NDVI_sd = ndvi['std']\n",
        "NDVI_max = ndvi['max']\n",
        "NDVI_median = ndvi['median']\n",
        "\n",
        "# Field data (collected from soc database)\n",
        "field = x[2:4]\n",
        "\"Combining field data with NDVI data\"\n",
        "field['NDVI_sd'] = NDVI_sd\n",
        "field['NDVI_max'] = NDVI_max\n",
        "field['NDVI_median'] = NDVI_median\n",
        "\n",
        "\n",
        "# prediction of soil% organic carbon for selected fields\n",
        "socPercent = clf.predict(field)\n",
        "print(\"Calculated SOC%\", socPercent)"
      ],
      "metadata": {
        "colab": {
          "base_uri": "https://localhost:8080/"
        },
        "id": "d0uLIhpNjnlV",
        "outputId": "8c4b7e80-1525-41d8-c3e0-a3d4ae637956"
      },
      "execution_count": 18,
      "outputs": [
        {
          "output_type": "stream",
          "name": "stdout",
          "text": [
            "Calculated SOC% [10.77488994 10.41984578]\n"
          ]
        }
      ]
    },
    {
      "cell_type": "code",
      "source": [
        "\"\"\"\n",
        "The SOC stock was calculated based on the SOC% and Bulk_Density of soil profile\n",
        "SOC_stock = Depth * BulckDensity * SOC%\n",
        "\"\"\"\n",
        "LandSize = 10000 # in m^2 one hectare\n",
        "Depth = 0.1 # in meters\n",
        "BulckDensity = 1.4 # in g/cm^3\n",
        "SOCPercent = 10.8 # Calculated through ML\n",
        "\n",
        "SOCStock = round((LandSize * Depth * BulckDensity * SOCPercent)/ 100) # Per hectare in tons\n",
        "TotalCC = 1 * SOCStock # 1 Credit for 1 ton of Carbon stock\n",
        "\n",
        "print(\"Total Carbon stock per hectare in tons :\", SOCStock)\n",
        "print(\"Total Carbon credits eligible : \", round(TotalCC))"
      ],
      "metadata": {
        "colab": {
          "base_uri": "https://localhost:8080/"
        },
        "id": "94Q6JNcUn-aT",
        "outputId": "67649513-4da8-4f51-8303-3ad485837d2d"
      },
      "execution_count": 27,
      "outputs": [
        {
          "output_type": "stream",
          "name": "stdout",
          "text": [
            "Total Carbon stock per hectare in tons : 151\n",
            "Total Carbon credits eligible :  151\n"
          ]
        }
      ]
    },
    {
      "cell_type": "code",
      "source": [],
      "metadata": {
        "id": "cdDgXMujsq-v"
      },
      "execution_count": null,
      "outputs": []
    }
  ]
}